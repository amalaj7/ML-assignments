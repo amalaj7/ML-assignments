{
  "nbformat": 4,
  "nbformat_minor": 0,
  "metadata": {
    "colab": {
      "name": "Python assignment 3.ipynb",
      "provenance": []
    },
    "kernelspec": {
      "name": "python3",
      "display_name": "Python 3"
    }
  },
  "cells": [
    {
      "cell_type": "markdown",
      "metadata": {
        "id": "ZcvgizhH28cJ",
        "colab_type": "text"
      },
      "source": [
        "#####  Write a Python Program to implement your own myreduce() function which works exactly like Python's built-in function reduce()"
      ]
    },
    {
      "cell_type": "code",
      "metadata": {
        "id": "bb_j3lrj3CRz",
        "colab_type": "code",
        "colab": {
          "base_uri": "https://localhost:8080/",
          "height": 35
        },
        "outputId": "fb614e3b-8d39-4055-ce17-dff51ed80960"
      },
      "source": [
        "from functools import reduce\n",
        "a = [1,2,3,4,5,6]\n",
        "reduce(lambda x,y:x+y , a)"
      ],
      "execution_count": 5,
      "outputs": [
        {
          "output_type": "execute_result",
          "data": {
            "text/plain": [
              "21"
            ]
          },
          "metadata": {
            "tags": []
          },
          "execution_count": 5
        }
      ]
    },
    {
      "cell_type": "code",
      "metadata": {
        "id": "_egB8vyE3skC",
        "colab_type": "code",
        "colab": {}
      },
      "source": [
        "def myreduce(funname,sequence):\n",
        "  result=0\n",
        "  for i in sequence:\n",
        "    result=funname(result,i)\n",
        "  return result"
      ],
      "execution_count": 6,
      "outputs": []
    },
    {
      "cell_type": "code",
      "metadata": {
        "id": "Xg7HZonb53yA",
        "colab_type": "code",
        "colab": {
          "base_uri": "https://localhost:8080/",
          "height": 35
        },
        "outputId": "57cc4377-d5ad-47cc-f61d-664c10739a55"
      },
      "source": [
        "l=[1+2+3+4+5+6]\n",
        "myreduce(lambda x,y:x+y,l)"
      ],
      "execution_count": 7,
      "outputs": [
        {
          "output_type": "execute_result",
          "data": {
            "text/plain": [
              "21"
            ]
          },
          "metadata": {
            "tags": []
          },
          "execution_count": 7
        }
      ]
    },
    {
      "cell_type": "markdown",
      "metadata": {
        "id": "DCdB8Lsh6SaC",
        "colab_type": "text"
      },
      "source": [
        "##### Write a Python program to implement your own myfilter() function which works exactly like Python's built-in function filter()"
      ]
    },
    {
      "cell_type": "code",
      "metadata": {
        "id": "DJGmJQal6BTu",
        "colab_type": "code",
        "colab": {
          "base_uri": "https://localhost:8080/",
          "height": 35
        },
        "outputId": "2556e104-4757-4d60-c92e-09b2d9c67049"
      },
      "source": [
        "x=range(20)\n",
        "list(filter(lambda x:x%2==0,x))"
      ],
      "execution_count": 9,
      "outputs": [
        {
          "output_type": "execute_result",
          "data": {
            "text/plain": [
              "[0, 2, 4, 6, 8, 10, 12, 14, 16, 18]"
            ]
          },
          "metadata": {
            "tags": []
          },
          "execution_count": 9
        }
      ]
    },
    {
      "cell_type": "code",
      "metadata": {
        "id": "jcGVdaTd6v90",
        "colab_type": "code",
        "colab": {}
      },
      "source": [
        "def myfilter(funname, sequence):\n",
        "  result=[]\n",
        "  for i in sequence:\n",
        "    if funname(i):\n",
        "      result.append(i)\n",
        "  return result"
      ],
      "execution_count": 10,
      "outputs": []
    },
    {
      "cell_type": "code",
      "metadata": {
        "id": "I1qLMgdT9dzE",
        "colab_type": "code",
        "colab": {
          "base_uri": "https://localhost:8080/",
          "height": 35
        },
        "outputId": "e7d54be4-7e00-4c6e-eacb-614512ba7755"
      },
      "source": [
        "def posorneg(n):\n",
        "  if n<=0:\n",
        "    return False\n",
        "  else:\n",
        "    return True\n",
        "list(myfilter(posorneg,[-1,-2,1,2]))"
      ],
      "execution_count": 18,
      "outputs": [
        {
          "output_type": "execute_result",
          "data": {
            "text/plain": [
              "[1, 2]"
            ]
          },
          "metadata": {
            "tags": []
          },
          "execution_count": 18
        }
      ]
    },
    {
      "cell_type": "code",
      "metadata": {
        "id": "Q4WMQXAO8JeG",
        "colab_type": "code",
        "colab": {
          "base_uri": "https://localhost:8080/",
          "height": 35
        },
        "outputId": "73197a01-0706-428f-ea60-1e8ebebec5d7"
      },
      "source": [
        "list(myfilter(lambda x:x%2==0,x))"
      ],
      "execution_count": 19,
      "outputs": [
        {
          "output_type": "execute_result",
          "data": {
            "text/plain": [
              "[0, 2, 4, 6, 8, 10, 12, 14, 16, 18]"
            ]
          },
          "metadata": {
            "tags": []
          },
          "execution_count": 19
        }
      ]
    },
    {
      "cell_type": "markdown",
      "metadata": {
        "id": "0nslZWyZ8hzK",
        "colab_type": "text"
      },
      "source": [
        "##### Implement List comprehensions to produce the following lists.\n",
        "Write List comprehensions to produce the following Lists\n",
        "\n",
        "['x', 'xx', 'xxx', 'xxxx', 'y', 'yy', 'yyy', 'yyyy', 'z', 'zz', 'zzz', 'zzzz']\n",
        "\n",
        "['x', 'y', 'z', 'xx', 'yy', 'zz', 'xxx', 'yyy', 'zzz', 'xxxx', 'yyyy', 'zzzz']\n",
        "\n",
        "[[2], [3], [4], [3], [4], [5], [4], [5], [6]] \n",
        "\n",
        "[[2, 3, 4, 5], [3, 4, 5, 6],\n",
        "[4, 5, 6, 7], [5, 6, 7, 8]]\n",
        "\n",
        "[(1, 1), (2, 1), (3, 1), (1, 2), (2, 2), (3, 2), (1, 3), (2, 3), (3, 3)]"
      ]
    },
    {
      "cell_type": "code",
      "metadata": {
        "id": "tooKFN1w8PN5",
        "colab_type": "code",
        "colab": {
          "base_uri": "https://localhost:8080/",
          "height": 108
        },
        "outputId": "b9c778fa-5ca7-460c-c4a5-2790ba7ea2c2"
      },
      "source": [
        "a=range(1,5)\n",
        "b=['x','y','z']\n",
        "print([i*j for i in b for j in a])\n",
        "#####\n",
        "\n",
        "a=range(1,3)\n",
        "b=range(1,3)\n",
        "c=['x','y','z']\n",
        "print([i*j*k for i in a for j in b for k in c])\n",
        "####\n",
        "\n",
        "a=range(2,5)\n",
        "b=range(3)\n",
        "print([[i+j] for i in a for j in b]) \n",
        "#####\n",
        "\n",
        "l = [2,3,4,5]\n",
        "result = [ [item+num for item in l] for num in range(0,4) ]\n",
        "print(result)\n",
        "####\n",
        "\n",
        "l=[1,2,3]\n",
        "result = [(b,a) for a in l for b in l]\n",
        "print(str(result))"
      ],
      "execution_count": 62,
      "outputs": [
        {
          "output_type": "stream",
          "text": [
            "['x', 'xx', 'xxx', 'xxxx', 'y', 'yy', 'yyy', 'yyyy', 'z', 'zz', 'zzz', 'zzzz']\n",
            "['x', 'y', 'z', 'xx', 'yy', 'zz', 'xx', 'yy', 'zz', 'xxxx', 'yyyy', 'zzzz']\n",
            "[[2], [3], [4], [3], [4], [5], [4], [5], [6]]\n",
            "[[2, 3, 4, 5], [3, 4, 5, 6], [4, 5, 6, 7], [5, 6, 7, 8]]\n",
            "[(1, 1), (2, 1), (3, 1), (1, 2), (2, 2), (3, 2), (1, 3), (2, 3), (3, 3)]\n"
          ],
          "name": "stdout"
        }
      ]
    },
    {
      "cell_type": "code",
      "metadata": {
        "id": "c-j8To5kFgmx",
        "colab_type": "code",
        "colab": {}
      },
      "source": [
        ""
      ],
      "execution_count": null,
      "outputs": []
    }
  ]
}